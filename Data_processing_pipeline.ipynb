{
 "cells": [
  {
   "cell_type": "markdown",
   "metadata": {},
   "source": [
    "## TOC:\n",
    "* [Set-up](#Set-up)\n",
    "* [Preprocessing](#2)\n",
    "* [Feature Engineering](#3)\n",
    "* [Data Cleaning](#4)\n",
    "* [Preperation for Model](#5)"
   ]
  },
  {
   "cell_type": "markdown",
   "metadata": {},
   "source": [
    "## Set-up <a class=\"anchor\" id=\"Set-up\"></a>"
   ]
  },
  {
   "cell_type": "code",
   "execution_count": 60,
   "metadata": {},
   "outputs": [],
   "source": [
    "from sklearn.linear_model import LogisticRegression\n",
    "from sklearn.ensemble import RandomForestClassifier\n",
    "from sklearn.preprocessing import LabelEncoder\n",
    "import pandas as pd\n",
    "import numpy as np\n",
    "from sklearn.preprocessing import MinMaxScaler\n",
    "from imblearn.over_sampling import SMOTE\n",
    "import scipy.stats as stats\n",
    "from scipy.stats import chi2_contingency\n",
    "from sklearn.metrics import confusion_matrix\n",
    "from sklearn.metrics import accuracy_score\n",
    "import matplotlib.pyplot as plt\n",
    "\n",
    "from sklearn.preprocessing import LabelEncoder\n",
    "from sklearn.preprocessing import MinMaxScaler\n",
    "from sklearn.preprocessing import StandardScaler\n",
    "from sklearn.feature_selection import RFE\n",
    "\n",
    "from sklearn.model_selection import train_test_split\n",
    "\n",
    "from imblearn.over_sampling import SMOTE\n",
    "\n",
    "from sklearn.ensemble import RandomForestClassifier\n",
    "from sklearn.linear_model import LinearRegression\n",
    "from sklearn.linear_model import LogisticRegression\n",
    "from sklearn.svm import SVC\n",
    "from sklearn.neural_network import MLPClassifier\n",
    "from sklearn.naive_bayes import GaussianNB\n",
    "\n",
    "from sklearn.metrics import confusion_matrix\n",
    "from sklearn.metrics import accuracy_score\n",
    "from sklearn.metrics import f1_score\n",
    "\n",
    "from sklearn.model_selection import GridSearchCV\n",
    "import re\n",
    "from collections import Counter"
   ]
  },
  {
   "cell_type": "code",
   "execution_count": 61,
   "metadata": {},
   "outputs": [],
   "source": [
    "df = pd.read_csv('/Users/noahcampana/Desktop/Studium/Master/Semester 1/Machine Learning/Project/project_data/train.csv', index_col = 'encounter_id')"
   ]
  },
  {
   "cell_type": "markdown",
   "metadata": {},
   "source": [
    "## Preprocessing <a class=\"anchor\" id=\"2\"></a>"
   ]
  },
  {
   "cell_type": "code",
   "execution_count": 62,
   "metadata": {},
   "outputs": [],
   "source": [
    "df.replace(\"\", np.nan, inplace=True)\n",
    "df.replace(\"?\", np.nan, inplace=True)\n",
    "\n",
    "df['change_in_meds_during_hospitalization'] = df['change_in_meds_during_hospitalization'].map({'Ch': 1, 'No': 0})\n",
    "df['change_in_meds_during_hospitalization'] = df['change_in_meds_during_hospitalization'].astype(bool)\n",
    "\n",
    "df['prescribed_diabetes_meds'] = df['prescribed_diabetes_meds'].map({'Yes': 1, 'No': 0})\n",
    "df['prescribed_diabetes_meds'] = df['prescribed_diabetes_meds'].astype(bool)\n",
    "\n",
    "# Drop COUNTRY column\n",
    "df = df.drop(columns=['country'])\n",
    "\n",
    "# Drop WEIGHT column\n",
    "df = df.drop(columns=['weight'])\n",
    "#--------------------------------------------------------------\n",
    "\n",
    "# Make GENDER to boolean\n",
    "df['gender'] = df['gender'].map({'Male': 1, 'Female': 0})\n",
    "df.rename(columns={'gender': 'is_male'}, inplace=True)\n",
    "df['is_male'] = df['is_male'].astype(bool)\n",
    "\n",
    "# Handle missing RACE values\n",
    "# Identify rows with missing 'race' values\n",
    "missing_race_rows = df[df['race'].isna()]\n",
    "\n",
    "# Filter rows of patients who visited more than once and have at least one non-missing 'race' value\n",
    "potential_fill_rows = df[df['patient_id'].isin(missing_race_rows['patient_id']) & df['race'].notna()]\n",
    "\n",
    "# Find the number of missing 'race' values that can potentially be filled\n",
    "fillable_values = potential_fill_rows['patient_id'].nunique()\n",
    "\n",
    "# Now we are filling the missing values\n",
    "race_dict = dict(zip(potential_fill_rows['patient_id'], potential_fill_rows['race']))\n",
    "df['race'] = df.apply(\n",
    "    lambda row: race_dict[row['patient_id']] if pd.isna(row['race']) and row['patient_id'] in race_dict else row['race'], axis=1)\n",
    "\n",
    "df['race'].fillna('Other', inplace=True)\n",
    "\n",
    "\n",
    "# Handle missing values of DIAGNOSIS\n",
    "df['primary_diagnosis'].fillna(df['primary_diagnosis'].mode()[0], inplace=True)\n",
    "df['secondary_diagnosis'].fillna(df['secondary_diagnosis'].mode()[0], inplace=True)\n",
    "\n",
    "# Create a label encoder\n",
    "label_encoder = LabelEncoder()\n",
    "\n",
    "df_copy = df.copy()\n",
    "# Apply label encoding to 'primary_diagnosis' and 'secondary_diagnosis'\n",
    "df_copy['primary_diagnosis'] = label_encoder.fit_transform(df['primary_diagnosis'])\n",
    "df_copy['secondary_diagnosis'] = label_encoder.fit_transform(df['secondary_diagnosis'])\n",
    "\n",
    "# Now, 'primary_diagnosis' and 'secondary_diagnosis' have been encoded as numerical values\n",
    "\n",
    "# Separate the dataset into parts with and without missing 'additional_diagnosis'\n",
    "df_with_missing = df_copy[df_copy['additional_diagnosis'].isna()]\n",
    "df_without_missing = df_copy[~df_copy['additional_diagnosis'].isna()]\n",
    "\n",
    "# Define the features and target for the classification model\n",
    "X = df_without_missing[['primary_diagnosis', 'secondary_diagnosis']]\n",
    "y = (df_without_missing['additional_diagnosis'].notna()).astype(int)\n",
    "\n",
    "# Split the data for training and testing\n",
    "X_train, X_test, y_train, y_test = train_test_split(X, y, test_size=0.2, random_state=42)\n",
    "\n",
    "# Train a classification model (e.g., RandomForest)\n",
    "clf = RandomForestClassifier()\n",
    "clf.fit(X_train, y_train)\n",
    "\n",
    "# Use the trained model to predict if 'additional_diagnosis' is present for the part with missing values\n",
    "X_predict = df_with_missing[['primary_diagnosis', 'secondary_diagnosis']]\n",
    "y_predict = clf.predict(X_predict)\n",
    "\n",
    "# Update the missing 'additional_diagnosis' values based on predictions\n",
    "df.loc[df['additional_diagnosis'].isna(), 'additional_diagnosis'] = y_predict\n",
    "#-----------------------------------------------------------------------------\n",
    "\n",
    "# Handle AGE column (same approach as race)\n",
    "missing_age_rows = df[df['age'].isna()]\n",
    "\n",
    "# Filter rows of patients who visited more than once and have at least one non-missing 'age' value\n",
    "potential_fill_rows = df[df['patient_id'].isin(missing_age_rows['patient_id']) & df['age'].notna()]\n",
    "\n",
    "# Find the number of missing 'age' values that can potentially be filled\n",
    "fillable_values = potential_fill_rows['patient_id'].nunique()\n",
    "\n",
    "# Calculate the percentage of fillable missing 'age' values\n",
    "percentage_fillable = (fillable_values / len(missing_age_rows)) * 100\n",
    "\n",
    "fillable_values, percentage_fillable\n",
    "\n",
    "#now we are filling the missing values\n",
    "age_dict = dict(zip(potential_fill_rows['patient_id'], potential_fill_rows['age']))\n",
    "#------------------------------------------------------------------------------\n",
    "\n",
    "# ADMISSION SOURCE --> mode\n",
    "mode_admission_source = df['admission_source'].mode()[0]\n",
    "df['admission_source'].fillna(mode_admission_source, inplace=True)\n",
    "\n",
    "# ADMISSION TYPE --> mode\n",
    "mode_admission_source = df['admission_type'].mode()[0]\n",
    "df['admission_type'].fillna(mode_admission_source, inplace=True)\n",
    "\n",
    "# MEDICAL SPECIALITY --> mode\n",
    "mode_specialty = df['medical_specialty'].mode()[0]\n",
    "df['medical_specialty'].fillna(mode_specialty, inplace=True)\n",
    "\n",
    "# DISCHARGE DISPOSITION --> mode\n",
    "mode_discharge = df['discharge_disposition'].mode()[0]\n",
    "df['discharge_disposition'].fillna(mode_discharge, inplace=True)\n",
    "\n",
    "# GLUCOSE TEST --> \"None\"\n",
    "df['glucose_test_result'].fillna('None', inplace=True)\n",
    "\n",
    "# A1C Test --> \"None\"\n",
    "df['a1c_test_result'].fillna('None', inplace=True)\n",
    "\n",
    "# PAYER CODE --> fill \"No\"\n",
    "df['payer_code'].fillna('No', inplace=True)\n",
    "df['payer_code'] = df['payer_code'].apply(lambda x: False if x == 'No' else True)\n",
    "df['payer_code'] = df['payer_code'].astype(bool)\n",
    "df.rename(columns={'payer_code': 'has_insurance'}, inplace=True)"
   ]
  },
  {
   "cell_type": "markdown",
   "metadata": {},
   "source": [
    "## Feature Engineering <a class=\"anchor\" id=\"3\"></a>"
   ]
  },
  {
   "cell_type": "code",
   "execution_count": 63,
   "metadata": {},
   "outputs": [],
   "source": [
    "# AGE \n",
    "df['age'] = df.apply(\n",
    "    lambda row: age_dict[row['patient_id']] if pd.isna(row['age']) and row['patient_id'] in age_dict else row['age'], axis=1)\n",
    "\n",
    "df['age'].fillna(df['age'].mode()[0], inplace=True)\n",
    "age_mapping = {\n",
    "    '[0-10)': 5,\n",
    "    '[10-20)': 15,\n",
    "    '[20-30)': 25,\n",
    "    '[30-40)': 35,\n",
    "    '[40-50)': 45,\n",
    "    '[50-60)': 55,\n",
    "    '[60-70)': 65,\n",
    "    '[70-80)': 75,\n",
    "    '[80-90)': 85,\n",
    "    '[90-100)': 95\n",
    "}\n",
    "df['age'] = df['age'].replace(age_mapping)\n",
    "\n",
    "# ADMISSION TYPE\n",
    "df['admission_type'] = df['admission_type'].replace(['Newborn', 'Trauma Center'], df['admission_type'].mode().iloc[0])\n",
    "df['admission_type'] = df['admission_type'].replace(['Not Available', 'Not Mapped'], df['admission_type'].mode().iloc[0])\n",
    "\n",
    "# ADMISSION SOURCE\n",
    "df['admission_source'] = df['admission_source'].replace([' Sick Baby', 'Normal Delivery', ' Extramural Birth', \n",
    "                                                             ' Court/Law Enforcement'], df['admission_source'].mode().iloc[0])\n",
    "df.loc[df['admission_source'].isin([' Physician Referral', 'Clinic Referral', 'HMO Referral']), 'admission_source'] = 'Referral'\n",
    "df.loc[df['admission_source'].isin(['Transfer from a hospital', ' Transfer from another health care facility', \\\n",
    "                                        ' Transfer from a Skilled Nursing Facility (SNF)', \\\n",
    "                                       ' Transfer from hospital inpt/same fac reslt in a sep claim', \\\n",
    "                                       ' Transfer from critial access hospital', \\\n",
    "                                       ' Transfer from Ambulatory Surgery Center']), 'admission_source'] = 'Transfer'\n",
    "df['admission_source'] = df['admission_source'].replace([' Not Mapped','Not Available'], df['admission_source'].mode().iloc[0])\n",
    "df['admission_source'] = df['admission_source'].replace(' Emergency Room', 'Emergency Room')\n",
    "\n",
    "# MEDICAL SPECIALITY\n",
    "values_to_drop = [\n",
    "    'Podiatry',\n",
    "    'Psychology',\n",
    "    'Hospitalist',\n",
    "    'Osteopath',\n",
    "    'OutreachServices',\n",
    "    'PhysicianNotFound',\n",
    "    'DCPTEAM',\n",
    "    'Speech'\n",
    "]\n",
    "df['medical_specialty']=df['medical_specialty'].replace(values_to_drop,df['medical_specialty'].mode().iloc[0])\n",
    "others=['Neurophysiology','Resident', 'Proctology','SportsMedicine','Pathology','Dentistry','Ophthalmology','Psychiatry',\n",
    "        'PhysicalMedicineandRehabilitation','Anesthesiology-Pediatric','Anesthesiology','Pediatrics-AllergyandImmunology',\n",
    "        'Neurology','InfectiousDiseases','AllergyandImmunology','Otolaryngology','Pediatrics-Neurology','Urology','Gynecology',\n",
    "        'ObstetricsandGynecology','Obstetrics','Endocrinology','Pediatrics-InfectiousDiseases','Gastroenterology','Rheumatology']\n",
    "df.loc[df['medical_specialty'].isin(['Pediatrics-Pulmonology','Pulmonology']), 'medical_specialty'] = 'Pulmonology'\n",
    "df.loc[df['medical_specialty'].isin(['Cardiology-Pediatric','Cardiology']), 'medical_specialty'] = 'Cardiology'\n",
    "df.loc[df['medical_specialty'].isin(['Pediatrics-Endocrinology','Endocrinology-Metabolism']), 'medical_specialty'] = 'Endocrinology'\n",
    "df.loc[df['medical_specialty'].isin(['Pediatrics-Hematology-Oncology','Hematology',\n",
    "                                         'Hematology/Oncology','Oncology',\n",
    "                                         'Obsterics&Gynecology-GynecologicOnco']), 'medical_specialty'] = 'Hematology/Oncology'\n",
    "df.loc[df['medical_specialty'].isin(['Radiologist','Radiology']), 'medical_specialty'] = 'Radiology'\n",
    "df.loc[df['medical_specialty'].isin(['Pediatrics-CriticalCare','Pediatrics','Psychiatry-Child/Adolescent']), 'medical_specialty'] = 'Pediatric'\n",
    "df.loc[df['medical_specialty'].isin(['Emergency/Trauma','Pediatrics-EmergencyMedicine']), 'medical_specialty'] = 'Emergency'\n",
    "df.loc[df['medical_specialty'].isin(['Surgery-General','Surgeon','Surgery-Thoracic','Surgery-Pediatric','Surgery-Vascular','Surgery-Plastic',\n",
    "                                         'Surgery-Colon&Rectal','SurgicalSpecialty','Surgery-Cardiovascular','Surgery-Neuro',\n",
    "                                         'Surgery-Cardiovascular/Thoracic','Orthopedics-Reconstructive',\n",
    "                                         'Surgery-Maxillofacial']), 'medical_specialty'] = 'Surgery'\n",
    "\n",
    "df['medical_specialty']=df['medical_specialty'].replace(others,'Other')\n",
    "\n",
    "# DISCHARGE DISPOSITION\n",
    "df['discharge_disposition'].replace({'Discharged to home': 1, 'Discharged/transferred to home with home health service': 1, 'Discharged/transferred to home under care of Home IV provider': 1, 'Expired at home. Medicaid only, hospice.': 1, 'Hospice / home': 1}, inplace=True)\n",
    "df['discharge_disposition'].replace(to_replace='.*', value=0, regex=True, inplace=True)\n",
    "df.rename(columns={'discharge_disposition': 'discharged_home'}, inplace=True)\n",
    "df['discharged_home'] = df['discharged_home'].astype(bool)\n",
    "\n",
    "# DIAGNOSISES\n",
    "# Look for chronic disease and make an new boolean column \"has_chronic_disease\" \n",
    "# 493: Asthma, 401: Hypertension, 428: Chronic heart failure, 250: Diabetes\n",
    "df[\"primary_diagnosis\"] = pd.to_numeric(df['primary_diagnosis'], errors='coerce')\n",
    "df[\"secondary_diagnosis\"] = pd.to_numeric(df['secondary_diagnosis'], errors='coerce')\n",
    "df[\"additional_diagnosis\"] = pd.to_numeric(df['additional_diagnosis'], errors='coerce')\n",
    "chronic_diseases = [493, 401, 428, 250]\n",
    "df['has_chronic_disease'] = np.where(\n",
    "    df['primary_diagnosis'].isin(chronic_diseases) | \n",
    "    df['secondary_diagnosis'].isin(chronic_diseases) | \n",
    "    df['additional_diagnosis'].isin(chronic_diseases), \n",
    "    1, \n",
    "    0\n",
    ")\n",
    "df[\"has_chronic_disease\"] = df[\"has_chronic_disease\"].astype(bool)\n",
    "# group 'primary_diagnosis', 'secondary_diagnosis', 'additional_diagnosis' into icd9 groups\n",
    "icd9_mapping = {\n",
    "    (1, 139): 1,      # List of ICD-9 codes 001–139: infectious and parasitic diseases\n",
    "    (140, 239): 2,    # List of ICD-9 codes 140–239: neoplasms\n",
    "    (240, 279): 3,    # List of ICD-9 codes 240–279: endocrine, nutritional and metabolic diseases, and immunity disorders\n",
    "    (280, 289): 4,    # List of ICD-9 codes 280–289: diseases of the blood and blood-forming organs\n",
    "    (290, 319): 5,    # List of ICD-9 codes 290–319: mental disorders\n",
    "    (320, 389): 6,    # List of ICD-9 codes 320–389: diseases of the nervous system and sense organs\n",
    "    (390, 459): 7,    # List of ICD-9 codes 390–459: diseases of the circulatory system\n",
    "    (460, 519): 8,    # List of ICD-9 codes 460–519: diseases of the respiratory system\n",
    "    (520, 579): 9,    # List of ICD-9 codes 520–579: diseases of the digestive system\n",
    "    (580, 629): 10,   # List of ICD-9 codes 580–629: diseases of the genitourinary system\n",
    "    (630, 679): 11,   # List of ICD-9 codes 630–679: complications of pregnancy, childbirth, and the puerperium\n",
    "    (680, 709): 12,   # List of ICD-9 codes 680–709: diseases of the skin and subcutaneous tissue\n",
    "    (710, 739): 13,   # List of ICD-9 codes 710–739: diseases of the musculoskeletal system and connective tissue\n",
    "    (740, 759): 14,   # List of ICD-9 codes 740–759: congenital anomalies\n",
    "    (760, 779): 15,   # List of ICD-9 codes 760–779: certain conditions originating in the perinatal period\n",
    "    (780, 799): 16,   # List of ICD-9 codes 780–799: symptoms, signs, and ill-defined conditions\n",
    "    (800, 999): 17,   # List of ICD-9 codes 800–999: injury and poisoning\n",
    "    #('E', 'E999'): 18,  # External causes of injury and supplemental classification starting with 'E'\n",
    "    #('V', 'V91'): 18,   # External causes of injury and supplemental classification starting with 'V'\n",
    "}\n",
    "def map_icd9_to_category(icd9_code):\n",
    "    if isinstance(icd9_code, (int, float)):\n",
    "        icd9_code = str(icd9_code)\n",
    "        \n",
    "    if icd9_code[0] == 'E' or icd9_code[0] == 'V':  #Code starts with 'E' or 'V'\n",
    "        return 18\n",
    "\n",
    "    for code_range, category in icd9_mapping.items():\n",
    "        start, end = code_range\n",
    "\n",
    "        if start <= float(icd9_code) <= end:\n",
    "            return category\n",
    " \n",
    "# Apply the mapping function to the columns\n",
    "df['primary_diagnosis'] = df['primary_diagnosis'].apply(map_icd9_to_category)\n",
    "df['secondary_diagnosis'] = df['secondary_diagnosis'].apply(map_icd9_to_category)\n",
    "df['additional_diagnosis'] = df['additional_diagnosis'].apply(map_icd9_to_category)\n",
    "#-----------------------------------------------------\n",
    "\n",
    "# MEDICATION\n",
    "# clean up the medication column\n",
    "medication = df['medication'].str.replace(r\"[',\\[\\]]\", \"\", regex=True).str.split()\n",
    "medication_counts = Counter([med for sublist in medication for med in sublist])\n",
    "medication_df = pd.DataFrame({'Medication': medication_counts.keys(), 'Count': medication_counts.values()})\n",
    "medication_counts = df['medication'].value_counts()\n",
    "total_columns = df.shape[1]\n",
    "# Create a column for the total number of medications prescribed\n",
    "col = df['medication'].apply(lambda x: len(eval(x)))\n",
    "insert_index = total_columns - 4\n",
    "df.insert(insert_index, 'num_medication', col)\n",
    "## create 3 new boolean columns for the 3 most used medications\n",
    "top_medications = medication_df['Medication'].head(3)\n",
    "insert_index1 = total_columns - 3\n",
    "for medication in top_medications:\n",
    "    # Create a binary column for each selected medication\n",
    "    df.insert(insert_index1, f'{medication}_prescribed', df['medication'].apply(lambda x: medication in x))\n",
    "#------------------------------------------------\n",
    "# AVERAGE PULSE BPM --> healthy or not\n",
    "df['average_pulse_bpm']=df['average_pulse_bpm'].apply(lambda x: True if x<=110 else False)\n",
    "df.rename(columns={'average_pulse_bpm': 'healthy_heartrate'}, inplace=True)\n",
    "\n",
    "# GLUCOSE TEST RESULT --> normal or high\n",
    "df['glucose_test_result']=df['glucose_test_result'].replace('>200','High')\n",
    "df['glucose_test_result']=df['glucose_test_result'].replace('>300','High')\n",
    "\n",
    "# A1C TEST RESULT --> normal or high\n",
    "df['a1c_test_result']=df['a1c_test_result'].replace('>8','High')\n",
    "df['a1c_test_result']=df['a1c_test_result'].replace('>7','High')\n",
    "\n",
    "\n",
    "\n",
    "# Drop PATIENT ID \n",
    "df.drop(columns=['patient_id'], inplace=True)"
   ]
  },
  {
   "cell_type": "markdown",
   "metadata": {},
   "source": [
    "## Data Cleaning <a class=\"anchor\" id=\"4\"></a>"
   ]
  },
  {
   "cell_type": "code",
   "execution_count": 64,
   "metadata": {},
   "outputs": [],
   "source": [
    "filters1 = (\n",
    "    (df['outpatient_visits_in_previous_year']<=10)\n",
    "    &\n",
    "    (df['emergency_visits_in_previous_year']<=10)\n",
    "    &\n",
    "    (df['number_lab_tests']<=100)\n",
    "    &\n",
    "    (df['number_of_medications']<=50)\n",
    "    &\n",
    "    (df['number_diagnoses']<=10) # change to 13\n",
    ")\n",
    "\n",
    "df_1 = df[filters1]"
   ]
  },
  {
   "cell_type": "code",
   "execution_count": 65,
   "metadata": {},
   "outputs": [
    {
     "data": {
      "text/plain": [
       "Index(['race', 'is_male', 'age', 'has_insurance',\n",
       "       'outpatient_visits_in_previous_year',\n",
       "       'emergency_visits_in_previous_year',\n",
       "       'inpatient_visits_in_previous_year', 'admission_type',\n",
       "       'medical_specialty', 'healthy_heartrate', 'discharged_home',\n",
       "       'admission_source', 'length_of_stay_in_hospital', 'number_lab_tests',\n",
       "       'non_lab_procedures', 'number_of_medications', 'primary_diagnosis',\n",
       "       'secondary_diagnosis', 'additional_diagnosis', 'number_diagnoses',\n",
       "       'glucose_test_result', 'a1c_test_result',\n",
       "       'change_in_meds_during_hospitalization', 'prescribed_diabetes_meds',\n",
       "       'num_medication', 'metformin_prescribed', 'glimepiride_prescribed',\n",
       "       'insulin_prescribed', 'medication', 'readmitted_binary',\n",
       "       'readmitted_multiclass', 'has_chronic_disease'],\n",
       "      dtype='object')"
      ]
     },
     "execution_count": 65,
     "metadata": {},
     "output_type": "execute_result"
    }
   ],
   "source": [
    "df.columns"
   ]
  },
  {
   "cell_type": "markdown",
   "metadata": {},
   "source": [
    "## Preparation for Model <a class=\"anchor\" id=\"5\"></a>"
   ]
  },
  {
   "cell_type": "code",
   "execution_count": 46,
   "metadata": {},
   "outputs": [],
   "source": [
    "# Initialize the LabelEncoder\n",
    "label_encoder = LabelEncoder()\n",
    "\n",
    "for col in df.columns:\n",
    "    if df[col].dtype == 'object':\n",
    "        df[col] = label_encoder.fit_transform(df[col])\n",
    "\n",
    "# MinMax Scaler\n",
    "scaler = MinMaxScaler()\n",
    "\n",
    "# Fit and transform the data using the scaler\n",
    "mmdf = scaler.fit_transform(df)"
   ]
  },
  {
   "cell_type": "code",
   "execution_count": 103,
   "metadata": {},
   "outputs": [],
   "source": [
    "X = df.drop(columns=['readmitted_binary', 'readmitted_multiclass'], axis = 1)\n",
    "y = df['readmitted_binary']\n",
    "X_train, X_val, y_train, y_val = train_test_split(X,y, test_size = 0.3, \n",
    "                                                  random_state = 42, \n",
    "                                                  stratify = y, \n",
    "                                                  shuffle = True)\n",
    "\n",
    "# deleted 'glimepiride_prescribed' & 'glyburide_prescribed'\n",
    "categorical= ['race', 'age','is_male', 'has_insurance', 'admission_type',\n",
    "       'medical_specialty', 'healthy_heartrate', 'discharged_home',\n",
    "       'admission_source', 'primary_diagnosis',\n",
    "       'secondary_diagnosis', 'additional_diagnosis',\n",
    "       'glucose_test_result', 'a1c_test_result',\n",
    "       'change_in_meds_during_hospitalization', 'insulin_prescribed', \n",
    "       'metformin_prescribed', 'prescribed_diabetes_meds', \"has_chronic_disease\", \"medication\"]\n",
    "\n",
    "X_train_cat=X_train[categorical]\n",
    "X_train_num = X_train.drop(columns=['race', 'age','is_male', 'has_insurance', 'admission_type',\n",
    "       'medical_specialty', 'healthy_heartrate', 'discharged_home',\n",
    "       'admission_source', 'primary_diagnosis',\n",
    "       'secondary_diagnosis', 'additional_diagnosis',\n",
    "       'glucose_test_result', 'a1c_test_result',\n",
    "       'change_in_meds_during_hospitalization', 'insulin_prescribed', \n",
    "       'metformin_prescribed', 'prescribed_diabetes_meds', \"has_chronic_disease\", \"glimepiride_prescribed\", \"medication\"])\n",
    "X_val_num = X_val.drop(columns=['race', 'age','is_male', 'has_insurance', 'admission_type',\n",
    "       'medical_specialty', 'healthy_heartrate', 'discharged_home',\n",
    "       'admission_source', 'primary_diagnosis',\n",
    "       'secondary_diagnosis', 'additional_diagnosis',\n",
    "       'glucose_test_result', 'a1c_test_result',\n",
    "       'change_in_meds_during_hospitalization', 'insulin_prescribed', \n",
    "       'metformin_prescribed', 'prescribed_diabetes_meds', \"has_chronic_disease\", \"glimepiride_prescribed\", \"medication\"])"
   ]
  },
  {
   "cell_type": "code",
   "execution_count": 104,
   "metadata": {},
   "outputs": [
    {
     "data": {
      "text/plain": [
       "Index(['outpatient_visits_in_previous_year',\n",
       "       'emergency_visits_in_previous_year',\n",
       "       'inpatient_visits_in_previous_year', 'length_of_stay_in_hospital',\n",
       "       'number_lab_tests', 'non_lab_procedures', 'number_of_medications',\n",
       "       'number_diagnoses', 'num_medication'],\n",
       "      dtype='object')"
      ]
     },
     "execution_count": 104,
     "metadata": {},
     "output_type": "execute_result"
    }
   ],
   "source": [
    "X_train_num.columns"
   ]
  },
  {
   "cell_type": "markdown",
   "metadata": {},
   "source": [
    "## Wrapper Methods"
   ]
  },
  {
   "cell_type": "markdown",
   "metadata": {},
   "source": [
    "Chi-Square for categorial data"
   ]
  },
  {
   "cell_type": "code",
   "execution_count": 105,
   "metadata": {},
   "outputs": [
    {
     "name": "stdout",
     "output_type": "stream",
     "text": [
      "race is IMPORTANT for Prediction\n",
      "age is IMPORTANT for Prediction\n",
      "is_male is NOT an important predictor. (Discard is_male from model)\n",
      "has_insurance is IMPORTANT for Prediction\n",
      "admission_type is NOT an important predictor. (Discard admission_type from model)\n",
      "medical_specialty is IMPORTANT for Prediction\n",
      "healthy_heartrate is NOT an important predictor. (Discard healthy_heartrate from model)\n",
      "discharged_home is IMPORTANT for Prediction\n",
      "admission_source is IMPORTANT for Prediction\n",
      "primary_diagnosis is IMPORTANT for Prediction\n",
      "secondary_diagnosis is IMPORTANT for Prediction\n",
      "additional_diagnosis is IMPORTANT for Prediction\n",
      "glucose_test_result is IMPORTANT for Prediction\n",
      "a1c_test_result is IMPORTANT for Prediction\n",
      "change_in_meds_during_hospitalization is IMPORTANT for Prediction\n",
      "insulin_prescribed is IMPORTANT for Prediction\n",
      "metformin_prescribed is IMPORTANT for Prediction\n",
      "prescribed_diabetes_meds is IMPORTANT for Prediction\n",
      "has_chronic_disease is IMPORTANT for Prediction\n",
      "medication is IMPORTANT for Prediction\n"
     ]
    }
   ],
   "source": [
    "def TestIndependence(X,y,var,alpha=0.05):        \n",
    "    dfObserved = pd.crosstab(y,X) \n",
    "    chi2, p, dof, expected = stats.chi2_contingency(dfObserved.values)\n",
    "    dfExpected = pd.DataFrame(expected, columns=dfObserved.columns, index = dfObserved.index)\n",
    "    if p<alpha:\n",
    "        result=\"{0} is IMPORTANT for Prediction\".format(var)\n",
    "    else:\n",
    "        result=\"{0} is NOT an important predictor. (Discard {0} from model)\".format(var)\n",
    "    print(result)\n",
    "\n",
    "for var in X_train_cat:\n",
    "    TestIndependence(X_train_cat[var],y_train, var)"
   ]
  },
  {
   "cell_type": "code",
   "execution_count": 108,
   "metadata": {},
   "outputs": [
    {
     "data": {
      "text/plain": [
       "9"
      ]
     },
     "execution_count": 108,
     "metadata": {},
     "output_type": "execute_result"
    }
   ],
   "source": [
    "len(X_train_num.columns)"
   ]
  },
  {
   "cell_type": "code",
   "execution_count": 145,
   "metadata": {},
   "outputs": [
    {
     "name": "stdout",
     "output_type": "stream",
     "text": [
      "Optimum number of features: 7\n",
      "Score with 7 features: 0.887932\n"
     ]
    }
   ],
   "source": [
    "import warnings\n",
    "from sklearn.exceptions import ConvergenceWarning\n",
    "warnings.filterwarnings(\"ignore\", category=ConvergenceWarning)\n",
    "\n",
    "model = LogisticRegression(max_iter=10000000)\n",
    "rfe = RFE(estimator = model, n_features_to_select = 1)\n",
    "X_rfe = rfe.fit_transform(X = X_train_num, y = y_train)\n",
    "#no of features\n",
    "nof_list=np.arange(1,10)            \n",
    "high_score=0\n",
    "#Variable to store the optimum features\n",
    "nof=7           \n",
    "train_score_list =[]\n",
    "val_score_list = []\n",
    "\n",
    "for n in range(len(nof_list)):\n",
    "    model = LogisticRegression()\n",
    "    \n",
    "    rfe = RFE(estimator = model,n_features_to_select = nof_list[n])\n",
    "    X_train_rfe = rfe.fit_transform(X_train_num,y_train)\n",
    "    X_val_rfe = rfe.transform(X_val_num)\n",
    "    model.fit(X_train_rfe,y_train)\n",
    "    \n",
    "    #storing results on training data\n",
    "    train_score = model.score(X_train_rfe,y_train)\n",
    "    train_score_list.append(train_score)\n",
    "    \n",
    "    #storing results on training data\n",
    "    val_score = model.score(X_val_rfe,y_val)\n",
    "    val_score_list.append(val_score)\n",
    "    \n",
    "    #check best score\n",
    "    if(val_score >= high_score):\n",
    "        high_score = val_score\n",
    "        nof = nof_list[n]\n",
    "print(\"Optimum number of features: %d\" %nof)\n",
    "print(\"Score with %d features: %f\" % (nof, high_score))"
   ]
  },
  {
   "cell_type": "code",
   "execution_count": 146,
   "metadata": {},
   "outputs": [
    {
     "data": {
      "text/plain": [
       "array([1, 1, 1, 1, 1, 1, 1, 1, 1])"
      ]
     },
     "execution_count": 146,
     "metadata": {},
     "output_type": "execute_result"
    }
   ],
   "source": [
    "rfe.ranking_"
   ]
  },
  {
   "cell_type": "code",
   "execution_count": 140,
   "metadata": {},
   "outputs": [
    {
     "data": {
      "text/html": [
       "<div>\n",
       "<style scoped>\n",
       "    .dataframe tbody tr th:only-of-type {\n",
       "        vertical-align: middle;\n",
       "    }\n",
       "\n",
       "    .dataframe tbody tr th {\n",
       "        vertical-align: top;\n",
       "    }\n",
       "\n",
       "    .dataframe thead th {\n",
       "        text-align: right;\n",
       "    }\n",
       "</style>\n",
       "<table border=\"1\" class=\"dataframe\">\n",
       "  <thead>\n",
       "    <tr style=\"text-align: right;\">\n",
       "      <th></th>\n",
       "      <th>0</th>\n",
       "    </tr>\n",
       "  </thead>\n",
       "  <tbody>\n",
       "    <tr>\n",
       "      <th>outpatient_visits_in_previous_year</th>\n",
       "      <td>1</td>\n",
       "    </tr>\n",
       "    <tr>\n",
       "      <th>emergency_visits_in_previous_year</th>\n",
       "      <td>1</td>\n",
       "    </tr>\n",
       "    <tr>\n",
       "      <th>inpatient_visits_in_previous_year</th>\n",
       "      <td>1</td>\n",
       "    </tr>\n",
       "    <tr>\n",
       "      <th>length_of_stay_in_hospital</th>\n",
       "      <td>1</td>\n",
       "    </tr>\n",
       "    <tr>\n",
       "      <th>number_lab_tests</th>\n",
       "      <td>2</td>\n",
       "    </tr>\n",
       "    <tr>\n",
       "      <th>non_lab_procedures</th>\n",
       "      <td>1</td>\n",
       "    </tr>\n",
       "    <tr>\n",
       "      <th>number_of_medications</th>\n",
       "      <td>1</td>\n",
       "    </tr>\n",
       "    <tr>\n",
       "      <th>number_diagnoses</th>\n",
       "      <td>1</td>\n",
       "    </tr>\n",
       "    <tr>\n",
       "      <th>num_medication</th>\n",
       "      <td>1</td>\n",
       "    </tr>\n",
       "  </tbody>\n",
       "</table>\n",
       "</div>"
      ],
      "text/plain": [
       "                                    0\n",
       "outpatient_visits_in_previous_year  1\n",
       "emergency_visits_in_previous_year   1\n",
       "inpatient_visits_in_previous_year   1\n",
       "length_of_stay_in_hospital          1\n",
       "number_lab_tests                    2\n",
       "non_lab_procedures                  1\n",
       "number_of_medications               1\n",
       "number_diagnoses                    1\n",
       "num_medication                      1"
      ]
     },
     "execution_count": 140,
     "metadata": {},
     "output_type": "execute_result"
    }
   ],
   "source": [
    "feature_ranking_rfe = pd.DataFrame(rfe.ranking_, index=X_train_num.columns)\n",
    "feature_ranking_rfe"
   ]
  },
  {
   "cell_type": "code",
   "execution_count": 148,
   "metadata": {},
   "outputs": [
    {
     "data": {
      "image/png": "[encoded data removed]",
      "text/plain": [
       "<Figure size 640x480 with 1 Axes>"
      ]
     },
     "metadata": {},
     "output_type": "display_data"
    }
   ],
   "source": [
    "plt.plot(list(range(1,10)), train_score_list, label=\"Score on Training Set\", color='yellowgreen')\n",
    "plt.plot(list(range(1,10)), val_score_list, label=\"Score on Test Set\", color='dimgray')\n",
    "plt.xlabel(\"Maximum Depth\")\n",
    "plt.ylabel(\"Score\")\n",
    "plt.legend()\n",
    "plt.show()"
   ]
  },
  {
   "cell_type": "markdown",
   "metadata": {},
   "source": []
  }
 ],
 "metadata": {
  "kernelspec": {
   "display_name": "base",
   "language": "python",
   "name": "python3"
  },
  "language_info": {
   "codemirror_mode": {
    "name": "ipython",
    "version": 3
   },
   "file_extension": ".py",
   "mimetype": "text/x-python",
   "name": "python",
   "nbconvert_exporter": "python",
   "pygments_lexer": "ipython3",
   "version": "3.11.4"
  }
 },
 "nbformat": 4,
 "nbformat_minor": 2
}
